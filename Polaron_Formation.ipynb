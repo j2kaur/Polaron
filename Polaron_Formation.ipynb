{
 "cells": [
  {
   "cell_type": "code",
   "execution_count": 1,
   "id": "incorrect-tactics",
   "metadata": {},
   "outputs": [],
   "source": [
    "from pymatgen.core import Structure\n",
    "from pymatgen.io.vasp.sets import MPStaticSet\n",
    "import math\n",
    "import numpy as np\n",
    "import pandas as pd"
   ]
  },
  {
   "cell_type": "code",
   "execution_count": 2,
   "id": "spectacular-australia",
   "metadata": {},
   "outputs": [],
   "source": [
    "def round_up(n, decimals=0):\n",
    "    multiplier = 10 ** decimals\n",
    "    return math.ceil(n * multiplier) / multiplier"
   ]
  },
  {
   "cell_type": "code",
   "execution_count": 3,
   "id": "american-brief",
   "metadata": {},
   "outputs": [],
   "source": [
    "def neighbouring_atoms(s: Structure, elem: str, site: int, neighbouring_site_no: int):\n",
    "    q = \"\"\n",
    "    a= []\n",
    "    test = np.array(s.distance_matrix[site])\n",
    "    test.sort()\n",
    "    r = round_up(test[neighbouring_site_no], 2) #it gets the length value for the 6th largest bond made by that site for octahedra. \n",
    "    summ = 0\n",
    "    if s.sites[site].specie.name == elem:\n",
    "#    q = s.sites[site].specie\n",
    "#    if q.name == elem:\n",
    "    \n",
    "        for j in range(neighbouring_site_no):\n",
    "            summ += s.get_distance(site,s.get_all_neighbors(r)[site][j].index)\n",
    "            a.append(s.get_all_neighbors(r)[site][j].index)\n",
    "    return a    "
   ]
  },
  {
   "cell_type": "code",
   "execution_count": 4,
   "id": "stainless-forestry",
   "metadata": {},
   "outputs": [],
   "source": [
    "def avg_bl(s: Structure, elem: str, neighbouring_site_no: int):\n",
    "    q = \"\"\n",
    "    errr = \"\"\n",
    "    df = pd.DataFrame(columns=['Site','Average Bond Length','Error(if any)'])\n",
    "    for i in range(len(s)):\n",
    "        test = np.array(s.distance_matrix[i])\n",
    "        test.sort()\n",
    "        r = round_up(test[neighbouring_site_no], 2) \n",
    "        #it gets the length value for the nth largest bond made by that site for the geometry it has. \n",
    "        summ = 0\n",
    "        q = s.sites[i].specie\n",
    "        if q.name == elem:\n",
    "            a = []\n",
    "            for j in range(neighbouring_site_no):\n",
    "                summ += s.get_distance(i,s.get_all_neighbors(r)[i][j].index)\n",
    "                a.append(s.get_all_neighbors(r)[i][j].index)\n",
    "            average = summ/neighbouring_site_no\n",
    "            data = {'Site': int(i),'Average Bond Length': average}\n",
    "            df = df.append(data,ignore_index=True)\n",
    "            for i in a:\n",
    "                if i < 96:\n",
    "                    errr = \"V-V distance taken instead of V-O\"\n",
    "                    df.at[i, 'Error(if any)'] = errr\n",
    "    return df"
   ]
  },
  {
   "cell_type": "code",
   "execution_count": 5,
   "id": "fifteen-small",
   "metadata": {},
   "outputs": [],
   "source": [
    "def increase_decrease_calculation(df,position: int):\n",
    "    df.to_dict()\n",
    "    df2 = df['Average Bond Length']\n",
    "    l1 = df2[position]\n",
    "    l2 = df2[position+1]\n",
    "    inc_dec = ((l1-l2)/l2)*100\n",
    "    return inc_dec"
   ]
  },
  {
   "cell_type": "code",
   "execution_count": 6,
   "id": "printable-spirituality",
   "metadata": {},
   "outputs": [],
   "source": [
    "def polaron_introduction(s: Structure, site: int, bl_inc_dec: int, neighbouring_site_no: int):\n",
    "    strain = 1+(bl_inc_dec/100)\n",
    "    test = []\n",
    "    elem = s.sites[site].specie.name\n",
    "    x = neighbouring_atoms(s,elem,site,neighbouring_site_no)\n",
    "    p = 0\n",
    "    q = 0\n",
    "#    test = np.array(s.distance_matrix[site])\n",
    "#    test.sort()\n",
    "#    r = round_up(test[neighbouring_site_no], 2)\n",
    "    \n",
    "#    for i in range(neighbouring_site_no):\n",
    "#        x.append(s.get_all_neighbors(r)[site][i].index)\n",
    "    \n",
    "    for i in x:\n",
    "        p = ((s[i].frac_coords-s[site].frac_coords)*strain)+s[site].frac_coords\n",
    "        q = s[i].frac_coords\n",
    "        for j in range(len(p)):\n",
    "            if p[j]>1:\n",
    "                p[j] = (((q[j]-1)*strain)+1)\n",
    "        s[i].frac_coords = p\n",
    "    return s"
   ]
  },
  {
   "cell_type": "code",
   "execution_count": 7,
   "id": "responsible-ethics",
   "metadata": {},
   "outputs": [],
   "source": [
    "def polaron_along_one_direction(s: Structure, site1: int, site2: int, bl_inc_dec: int):\n",
    "    strain = 1+(bl_inc_dec/100)\n",
    "    p = 0\n",
    "    q = 0\n",
    "\n",
    "    p = ((s[site2].frac_coords-s[site1].frac_coords)*strain)+s[site1].frac_coords\n",
    "    q = s[site2].frac_coords\n",
    "    for j in range(len(p)):\n",
    "        if p[j]>1:\n",
    "            p[j] = (((q[j]-1)*strain)+1)\n",
    "    s[site2].frac_coords = p\n",
    "    return s"
   ]
  },
  {
   "cell_type": "code",
   "execution_count": 8,
   "id": "necessary-values",
   "metadata": {},
   "outputs": [],
   "source": [
    "def common_atoms(s: Structure, site1: int, site2: int, neighbouring_site_no: int):\n",
    "    a = []\n",
    "    b = []\n",
    "    yes = 0\n",
    "    same = []\n",
    "\n",
    "    test = np.array(s.distance_matrix[site1])\n",
    "    test.sort()\n",
    "    r = round_up(test[neighbouring_site_no], 2)\n",
    "    for i in range(neighbouring_site_no):\n",
    "        a.append(s.get_all_neighbors(r)[site1][i].index)\n",
    "\n",
    "    test2 = np.array(s.distance_matrix[site2])\n",
    "    test2.sort()\n",
    "    r2 = round_up(test2[neighbouring_site_no], 2)\n",
    "    for j in range(6):\n",
    "        b.append(s.get_all_neighbors(r2)[site2][j].index)\n",
    "        \n",
    "    for i in a:\n",
    "        for j in b:\n",
    "            if i ==j:\n",
    "                yes += 1\n",
    "                same.append(i)\n",
    "                \n",
    "    if yes == 0:\n",
    "        message = \"No common O atoms\"\n",
    "        return message\n",
    "    else:\n",
    "        return same"
   ]
  },
  {
   "cell_type": "code",
   "execution_count": null,
   "id": "cellular-luxembourg",
   "metadata": {},
   "outputs": [],
   "source": []
  }
 ],
 "metadata": {
  "kernelspec": {
   "display_name": "Python 3",
   "language": "python",
   "name": "python3"
  },
  "language_info": {
   "codemirror_mode": {
    "name": "ipython",
    "version": 3
   },
   "file_extension": ".py",
   "mimetype": "text/x-python",
   "name": "python",
   "nbconvert_exporter": "python",
   "pygments_lexer": "ipython3",
   "version": "3.8.5"
  }
 },
 "nbformat": 4,
 "nbformat_minor": 5
}
